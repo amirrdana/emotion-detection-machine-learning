# import the labeled matrix of similarity dataframe
# apply random forest, svm, and gradient boosting tree to it
# report total accurany
# report emotion-wise accuracy

# import the labeled matrix of similarity dataframe
from google.colab import drive
import pandas as pd
drive.mount('/content/drive/')
similarity_matrix = pd.read_csv("/content/drive/MyDrive/featured_dataframe/featured_dataframe.csv")

